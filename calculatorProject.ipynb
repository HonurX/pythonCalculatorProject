{
 "cells": [
  {
   "cell_type": "code",
   "execution_count": null,
   "id": "c8a77ebf-273d-47bd-8cd4-eb71075a6651",
   "metadata": {},
   "outputs": [
    {
     "name": "stdin",
     "output_type": "stream",
     "text": [
      "enter a number f\n"
     ]
    },
    {
     "name": "stdout",
     "output_type": "stream",
     "text": [
      "please enter correct method\n"
     ]
    },
    {
     "name": "stdin",
     "output_type": "stream",
     "text": [
      "enter a number 10\n",
      "enter a number 20\n",
      "select the method + - * /  =\n"
     ]
    },
    {
     "name": "stdout",
     "output_type": "stream",
     "text": [
      "Please enter on of  + - * / \n",
      "None\n"
     ]
    }
   ],
   "source": [
    "def calculat (a,b,islem):\n",
    "\n",
    "\n",
    "      if islem not in \"+-*/\" :\n",
    "          print( \"Please enter on of  + - * / \")\n",
    "\n",
    "          \n",
    "      if islem == \"+\" :\n",
    "          return (str(a) +  \" + \" + str(b) + \" = \" + str(a+b)) \n",
    "      if islem == \"-\" :\n",
    "          return (str(a) + \" - \" + str(b) + \" = \" + str(a-b)) \n",
    "      if islem == \"*\" :\n",
    "          return (str(a) + \" * \" + str(b) + \" = \" + str(a*b)) \n",
    "      if islem == \"/\" :\n",
    "          return (str(a) + \" / \" + str(b) + \" = \" + str(a/b))\n",
    "          \n",
    "       \n",
    "\n",
    "while True : ##SONSUZ DONGU\n",
    "    try : \n",
    "        a = int(input(\"enter a number\"))\n",
    "        b = int(input(\"enter a number\"))\n",
    "        islem = input(\"select the method + - * / \")\n",
    "        print(calculat(a,b,islem))\n",
    "\n",
    "    except :\n",
    "         print(\"please enter correct method\")\n",
    "\n",
    "\n",
    "\n"
   ]
  },
  {
   "cell_type": "code",
   "execution_count": null,
   "id": "cabecdc7-16f9-4654-baaf-fc5c39d75c72",
   "metadata": {},
   "outputs": [],
   "source": []
  },
  {
   "cell_type": "code",
   "execution_count": null,
   "id": "7c6ab6ca-bf0a-41bd-a031-ad2cf6aab81f",
   "metadata": {},
   "outputs": [],
   "source": []
  },
  {
   "cell_type": "code",
   "execution_count": null,
   "id": "3f0d6935-f67e-4bcc-8f46-e48f3efba9ee",
   "metadata": {},
   "outputs": [],
   "source": []
  },
  {
   "cell_type": "code",
   "execution_count": null,
   "id": "d006a243-defc-43bc-be96-736ed34117e3",
   "metadata": {},
   "outputs": [],
   "source": []
  },
  {
   "cell_type": "code",
   "execution_count": null,
   "id": "83361683-f8ba-4ddf-9db9-0fe426486c0a",
   "metadata": {},
   "outputs": [],
   "source": []
  },
  {
   "cell_type": "code",
   "execution_count": null,
   "id": "23cbe0ae-399c-4ee3-9dd7-0cf7289eed1b",
   "metadata": {},
   "outputs": [],
   "source": []
  },
  {
   "cell_type": "code",
   "execution_count": null,
   "id": "4f3ef6d1-162e-4da8-a522-26303463b214",
   "metadata": {},
   "outputs": [],
   "source": []
  },
  {
   "cell_type": "code",
   "execution_count": null,
   "id": "20188f4e-e703-452d-bc71-f841aeabfc81",
   "metadata": {},
   "outputs": [],
   "source": []
  },
  {
   "cell_type": "code",
   "execution_count": null,
   "id": "a12135f6-526d-4e6a-80b4-f992a2a39dcd",
   "metadata": {},
   "outputs": [],
   "source": []
  },
  {
   "cell_type": "code",
   "execution_count": null,
   "id": "4264a551-a8aa-42ac-b9d0-d64fb61a88c4",
   "metadata": {},
   "outputs": [],
   "source": []
  },
  {
   "cell_type": "code",
   "execution_count": null,
   "id": "4f708450-d96b-442e-9fc1-ea3884ecf44b",
   "metadata": {},
   "outputs": [],
   "source": []
  },
  {
   "cell_type": "code",
   "execution_count": null,
   "id": "cb85b261-5d15-463d-850a-dc0e752aa6cc",
   "metadata": {},
   "outputs": [],
   "source": []
  },
  {
   "cell_type": "code",
   "execution_count": null,
   "id": "317067dd-7343-4836-9449-64e64d5bd985",
   "metadata": {},
   "outputs": [],
   "source": []
  },
  {
   "cell_type": "code",
   "execution_count": null,
   "id": "2365317d-3c40-4b82-824d-e606b7687422",
   "metadata": {},
   "outputs": [],
   "source": []
  },
  {
   "cell_type": "code",
   "execution_count": null,
   "id": "8e7e8890-d8dc-43df-9987-2c8c577d67f0",
   "metadata": {},
   "outputs": [],
   "source": []
  },
  {
   "cell_type": "code",
   "execution_count": null,
   "id": "b5b85eac-57ea-4732-bee0-8394589a8800",
   "metadata": {},
   "outputs": [],
   "source": [
    "\n"
   ]
  },
  {
   "cell_type": "code",
   "execution_count": null,
   "id": "cdf77256-62df-4109-aed9-3b2f5bbee5ff",
   "metadata": {},
   "outputs": [],
   "source": []
  },
  {
   "cell_type": "code",
   "execution_count": null,
   "id": "f629d45f-a869-436d-ab47-ea5664af5449",
   "metadata": {},
   "outputs": [],
   "source": []
  },
  {
   "cell_type": "code",
   "execution_count": null,
   "id": "263b9448-d5c4-4cb8-8cd0-bf7d463157eb",
   "metadata": {},
   "outputs": [],
   "source": [
    "\n",
    "\n",
    "\n"
   ]
  },
  {
   "cell_type": "code",
   "execution_count": null,
   "id": "2e7230c4-0573-43b6-b766-12f004c0a698",
   "metadata": {},
   "outputs": [],
   "source": []
  },
  {
   "cell_type": "code",
   "execution_count": null,
   "id": "4a162386-99bf-4673-ab48-9a6dcfec218a",
   "metadata": {},
   "outputs": [],
   "source": []
  },
  {
   "cell_type": "code",
   "execution_count": null,
   "id": "c6b1bd2f-c7a6-432f-a84e-5610c6982ca2",
   "metadata": {},
   "outputs": [],
   "source": [
    "\n"
   ]
  },
  {
   "cell_type": "code",
   "execution_count": null,
   "id": "cf17d51e-bac1-4f9f-8baf-a8155f1ddd01",
   "metadata": {},
   "outputs": [],
   "source": []
  },
  {
   "cell_type": "code",
   "execution_count": null,
   "id": "9295974b-8ff5-4677-ac7d-a8ef23b54e47",
   "metadata": {},
   "outputs": [],
   "source": []
  },
  {
   "cell_type": "code",
   "execution_count": null,
   "id": "734af89b-f07b-44c8-9ab3-c37b86d01c2a",
   "metadata": {},
   "outputs": [],
   "source": []
  },
  {
   "cell_type": "code",
   "execution_count": null,
   "id": "bf66a54c-465c-4c5f-a8c2-3537be3fff66",
   "metadata": {},
   "outputs": [],
   "source": []
  },
  {
   "cell_type": "code",
   "execution_count": null,
   "id": "75343875-30c8-4992-b65d-2b5bb0c2177d",
   "metadata": {},
   "outputs": [],
   "source": []
  },
  {
   "cell_type": "code",
   "execution_count": null,
   "id": "8b645aac-e10c-4ab6-8204-4f66965103f8",
   "metadata": {},
   "outputs": [],
   "source": []
  },
  {
   "cell_type": "code",
   "execution_count": null,
   "id": "c8472b1b-650d-425b-a456-5ea5b7ba196a",
   "metadata": {},
   "outputs": [],
   "source": []
  },
  {
   "cell_type": "code",
   "execution_count": null,
   "id": "882b4deb-1a86-414d-8c54-c7290c0ba9c3",
   "metadata": {},
   "outputs": [],
   "source": []
  },
  {
   "cell_type": "code",
   "execution_count": null,
   "id": "60399082-f48d-432a-9b63-4d768da2f47f",
   "metadata": {},
   "outputs": [],
   "source": []
  },
  {
   "cell_type": "code",
   "execution_count": null,
   "id": "64396802-b7df-459d-8c68-e68944213979",
   "metadata": {},
   "outputs": [],
   "source": []
  },
  {
   "cell_type": "code",
   "execution_count": null,
   "id": "3b90647a-10fd-4b30-84d7-29e3fc3682c3",
   "metadata": {},
   "outputs": [],
   "source": []
  },
  {
   "cell_type": "code",
   "execution_count": null,
   "id": "83a25a27-4a54-4844-ae4d-f02372363a04",
   "metadata": {},
   "outputs": [],
   "source": [
    "\n"
   ]
  },
  {
   "cell_type": "code",
   "execution_count": null,
   "id": "8b434851-814b-46cd-a292-31c8223d0993",
   "metadata": {},
   "outputs": [],
   "source": [
    "\n"
   ]
  }
 ],
 "metadata": {
  "kernelspec": {
   "display_name": "Python 3 (ipykernel)",
   "language": "python",
   "name": "python3"
  },
  "language_info": {
   "codemirror_mode": {
    "name": "ipython",
    "version": 3
   },
   "file_extension": ".py",
   "mimetype": "text/x-python",
   "name": "python",
   "nbconvert_exporter": "python",
   "pygments_lexer": "ipython3",
   "version": "3.12.4"
  }
 },
 "nbformat": 4,
 "nbformat_minor": 5
}
